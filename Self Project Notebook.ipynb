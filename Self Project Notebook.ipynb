{
 "cells": [
  {
   "cell_type": "markdown",
   "id": "ea788ef2",
   "metadata": {},
   "source": [
    "# Will the Telcom Customer Churn?- A Classification Analysis"
   ]
  },
  {
   "cell_type": "markdown",
   "id": "130e44a3",
   "metadata": {},
   "source": [
    "# Authors: Rajdeep Saha & Soumik Karmakar"
   ]
  },
  {
   "cell_type": "code",
   "execution_count": 1,
   "id": "ebf57035",
   "metadata": {},
   "outputs": [
    {
     "name": "stderr",
     "output_type": "stream",
     "text": [
      "Loading required package: lattice\n",
      "\n",
      "Loading required package: carData\n",
      "\n",
      "corrplot 0.89 loaded\n",
      "\n",
      "randomForest 4.6-14\n",
      "\n",
      "Type rfNews() to see new features/changes/bug fixes.\n",
      "\n",
      "\n",
      "Attaching package: 'randomForest'\n",
      "\n",
      "\n",
      "The following object is masked from 'package:ggplot2':\n",
      "\n",
      "    margin\n",
      "\n",
      "\n",
      "Type 'citation(\"pROC\")' for a citation.\n",
      "\n",
      "\n",
      "Attaching package: 'pROC'\n",
      "\n",
      "\n",
      "The following objects are masked from 'package:stats':\n",
      "\n",
      "    cov, smooth, var\n",
      "\n",
      "\n"
     ]
    }
   ],
   "source": [
    "rm(list=ls())\n",
    "set.seed(1)\n",
    "library(ggplot2)\n",
    "library(leaps)\n",
    "library(caret)\n",
    "library(car)\n",
    "library(corrplot)\n",
    "library(tree)\n",
    "library(MASS)\n",
    "library(randomForest)\n",
    "library(pROC)"
   ]
  },
  {
   "cell_type": "markdown",
   "id": "93968ccd",
   "metadata": {},
   "source": [
    "# Data Access"
   ]
  },
  {
   "cell_type": "code",
   "execution_count": 2,
   "id": "19c9e9b4",
   "metadata": {},
   "outputs": [
    {
     "data": {
      "text/html": [
       "<table class=\"dataframe\">\n",
       "<caption>A data.frame: 6 × 21</caption>\n",
       "<thead>\n",
       "\t<tr><th></th><th scope=col>customerID</th><th scope=col>gender</th><th scope=col>SeniorCitizen</th><th scope=col>Partner</th><th scope=col>Dependents</th><th scope=col>tenure</th><th scope=col>PhoneService</th><th scope=col>MultipleLines</th><th scope=col>InternetService</th><th scope=col>OnlineSecurity</th><th scope=col>...</th><th scope=col>DeviceProtection</th><th scope=col>TechSupport</th><th scope=col>StreamingTV</th><th scope=col>StreamingMovies</th><th scope=col>Contract</th><th scope=col>PaperlessBilling</th><th scope=col>PaymentMethod</th><th scope=col>MonthlyCharges</th><th scope=col>TotalCharges</th><th scope=col>Churn</th></tr>\n",
       "\t<tr><th></th><th scope=col>&lt;chr&gt;</th><th scope=col>&lt;chr&gt;</th><th scope=col>&lt;int&gt;</th><th scope=col>&lt;chr&gt;</th><th scope=col>&lt;chr&gt;</th><th scope=col>&lt;int&gt;</th><th scope=col>&lt;chr&gt;</th><th scope=col>&lt;chr&gt;</th><th scope=col>&lt;chr&gt;</th><th scope=col>&lt;chr&gt;</th><th scope=col>...</th><th scope=col>&lt;chr&gt;</th><th scope=col>&lt;chr&gt;</th><th scope=col>&lt;chr&gt;</th><th scope=col>&lt;chr&gt;</th><th scope=col>&lt;chr&gt;</th><th scope=col>&lt;chr&gt;</th><th scope=col>&lt;chr&gt;</th><th scope=col>&lt;dbl&gt;</th><th scope=col>&lt;dbl&gt;</th><th scope=col>&lt;chr&gt;</th></tr>\n",
       "</thead>\n",
       "<tbody>\n",
       "\t<tr><th scope=row>1</th><td>7590-VHVEG</td><td>Female</td><td>0</td><td>Yes</td><td>No</td><td> 1</td><td>No </td><td>No phone service</td><td>DSL        </td><td>No </td><td>...</td><td>No </td><td>No </td><td>No </td><td>No </td><td>Month-to-month</td><td>Yes</td><td>Electronic check         </td><td>29.85</td><td>  29.85</td><td>No </td></tr>\n",
       "\t<tr><th scope=row>2</th><td>5575-GNVDE</td><td>Male  </td><td>0</td><td>No </td><td>No</td><td>34</td><td>Yes</td><td>No              </td><td>DSL        </td><td>Yes</td><td>...</td><td>Yes</td><td>No </td><td>No </td><td>No </td><td>One year      </td><td>No </td><td>Mailed check             </td><td>56.95</td><td>1889.50</td><td>No </td></tr>\n",
       "\t<tr><th scope=row>3</th><td>3668-QPYBK</td><td>Male  </td><td>0</td><td>No </td><td>No</td><td> 2</td><td>Yes</td><td>No              </td><td>DSL        </td><td>Yes</td><td>...</td><td>No </td><td>No </td><td>No </td><td>No </td><td>Month-to-month</td><td>Yes</td><td>Mailed check             </td><td>53.85</td><td> 108.15</td><td>Yes</td></tr>\n",
       "\t<tr><th scope=row>4</th><td>7795-CFOCW</td><td>Male  </td><td>0</td><td>No </td><td>No</td><td>45</td><td>No </td><td>No phone service</td><td>DSL        </td><td>Yes</td><td>...</td><td>Yes</td><td>Yes</td><td>No </td><td>No </td><td>One year      </td><td>No </td><td>Bank transfer (automatic)</td><td>42.30</td><td>1840.75</td><td>No </td></tr>\n",
       "\t<tr><th scope=row>5</th><td>9237-HQITU</td><td>Female</td><td>0</td><td>No </td><td>No</td><td> 2</td><td>Yes</td><td>No              </td><td>Fiber optic</td><td>No </td><td>...</td><td>No </td><td>No </td><td>No </td><td>No </td><td>Month-to-month</td><td>Yes</td><td>Electronic check         </td><td>70.70</td><td> 151.65</td><td>Yes</td></tr>\n",
       "\t<tr><th scope=row>6</th><td>9305-CDSKC</td><td>Female</td><td>0</td><td>No </td><td>No</td><td> 8</td><td>Yes</td><td>Yes             </td><td>Fiber optic</td><td>No </td><td>...</td><td>Yes</td><td>No </td><td>Yes</td><td>Yes</td><td>Month-to-month</td><td>Yes</td><td>Electronic check         </td><td>99.65</td><td> 820.50</td><td>Yes</td></tr>\n",
       "</tbody>\n",
       "</table>\n"
      ],
      "text/latex": [
       "A data.frame: 6 × 21\n",
       "\\begin{tabular}{r|lllllllllllllllllllll}\n",
       "  & customerID & gender & SeniorCitizen & Partner & Dependents & tenure & PhoneService & MultipleLines & InternetService & OnlineSecurity & ... & DeviceProtection & TechSupport & StreamingTV & StreamingMovies & Contract & PaperlessBilling & PaymentMethod & MonthlyCharges & TotalCharges & Churn\\\\\n",
       "  & <chr> & <chr> & <int> & <chr> & <chr> & <int> & <chr> & <chr> & <chr> & <chr> & ... & <chr> & <chr> & <chr> & <chr> & <chr> & <chr> & <chr> & <dbl> & <dbl> & <chr>\\\\\n",
       "\\hline\n",
       "\t1 & 7590-VHVEG & Female & 0 & Yes & No &  1 & No  & No phone service & DSL         & No  & ... & No  & No  & No  & No  & Month-to-month & Yes & Electronic check          & 29.85 &   29.85 & No \\\\\n",
       "\t2 & 5575-GNVDE & Male   & 0 & No  & No & 34 & Yes & No               & DSL         & Yes & ... & Yes & No  & No  & No  & One year       & No  & Mailed check              & 56.95 & 1889.50 & No \\\\\n",
       "\t3 & 3668-QPYBK & Male   & 0 & No  & No &  2 & Yes & No               & DSL         & Yes & ... & No  & No  & No  & No  & Month-to-month & Yes & Mailed check              & 53.85 &  108.15 & Yes\\\\\n",
       "\t4 & 7795-CFOCW & Male   & 0 & No  & No & 45 & No  & No phone service & DSL         & Yes & ... & Yes & Yes & No  & No  & One year       & No  & Bank transfer (automatic) & 42.30 & 1840.75 & No \\\\\n",
       "\t5 & 9237-HQITU & Female & 0 & No  & No &  2 & Yes & No               & Fiber optic & No  & ... & No  & No  & No  & No  & Month-to-month & Yes & Electronic check          & 70.70 &  151.65 & Yes\\\\\n",
       "\t6 & 9305-CDSKC & Female & 0 & No  & No &  8 & Yes & Yes              & Fiber optic & No  & ... & Yes & No  & Yes & Yes & Month-to-month & Yes & Electronic check          & 99.65 &  820.50 & Yes\\\\\n",
       "\\end{tabular}\n"
      ],
      "text/markdown": [
       "\n",
       "A data.frame: 6 × 21\n",
       "\n",
       "| <!--/--> | customerID &lt;chr&gt; | gender &lt;chr&gt; | SeniorCitizen &lt;int&gt; | Partner &lt;chr&gt; | Dependents &lt;chr&gt; | tenure &lt;int&gt; | PhoneService &lt;chr&gt; | MultipleLines &lt;chr&gt; | InternetService &lt;chr&gt; | OnlineSecurity &lt;chr&gt; | ... ... | DeviceProtection &lt;chr&gt; | TechSupport &lt;chr&gt; | StreamingTV &lt;chr&gt; | StreamingMovies &lt;chr&gt; | Contract &lt;chr&gt; | PaperlessBilling &lt;chr&gt; | PaymentMethod &lt;chr&gt; | MonthlyCharges &lt;dbl&gt; | TotalCharges &lt;dbl&gt; | Churn &lt;chr&gt; |\n",
       "|---|---|---|---|---|---|---|---|---|---|---|---|---|---|---|---|---|---|---|---|---|---|\n",
       "| 1 | 7590-VHVEG | Female | 0 | Yes | No |  1 | No  | No phone service | DSL         | No  | ... | No  | No  | No  | No  | Month-to-month | Yes | Electronic check          | 29.85 |   29.85 | No  |\n",
       "| 2 | 5575-GNVDE | Male   | 0 | No  | No | 34 | Yes | No               | DSL         | Yes | ... | Yes | No  | No  | No  | One year       | No  | Mailed check              | 56.95 | 1889.50 | No  |\n",
       "| 3 | 3668-QPYBK | Male   | 0 | No  | No |  2 | Yes | No               | DSL         | Yes | ... | No  | No  | No  | No  | Month-to-month | Yes | Mailed check              | 53.85 |  108.15 | Yes |\n",
       "| 4 | 7795-CFOCW | Male   | 0 | No  | No | 45 | No  | No phone service | DSL         | Yes | ... | Yes | Yes | No  | No  | One year       | No  | Bank transfer (automatic) | 42.30 | 1840.75 | No  |\n",
       "| 5 | 9237-HQITU | Female | 0 | No  | No |  2 | Yes | No               | Fiber optic | No  | ... | No  | No  | No  | No  | Month-to-month | Yes | Electronic check          | 70.70 |  151.65 | Yes |\n",
       "| 6 | 9305-CDSKC | Female | 0 | No  | No |  8 | Yes | Yes              | Fiber optic | No  | ... | Yes | No  | Yes | Yes | Month-to-month | Yes | Electronic check          | 99.65 |  820.50 | Yes |\n",
       "\n"
      ],
      "text/plain": [
       "  customerID gender SeniorCitizen Partner Dependents tenure PhoneService\n",
       "1 7590-VHVEG Female 0             Yes     No          1     No          \n",
       "2 5575-GNVDE Male   0             No      No         34     Yes         \n",
       "3 3668-QPYBK Male   0             No      No          2     Yes         \n",
       "4 7795-CFOCW Male   0             No      No         45     No          \n",
       "5 9237-HQITU Female 0             No      No          2     Yes         \n",
       "6 9305-CDSKC Female 0             No      No          8     Yes         \n",
       "  MultipleLines    InternetService OnlineSecurity ... DeviceProtection\n",
       "1 No phone service DSL             No             ... No              \n",
       "2 No               DSL             Yes            ... Yes             \n",
       "3 No               DSL             Yes            ... No              \n",
       "4 No phone service DSL             Yes            ... Yes             \n",
       "5 No               Fiber optic     No             ... No              \n",
       "6 Yes              Fiber optic     No             ... Yes             \n",
       "  TechSupport StreamingTV StreamingMovies Contract       PaperlessBilling\n",
       "1 No          No          No              Month-to-month Yes             \n",
       "2 No          No          No              One year       No              \n",
       "3 No          No          No              Month-to-month Yes             \n",
       "4 Yes         No          No              One year       No              \n",
       "5 No          No          No              Month-to-month Yes             \n",
       "6 No          Yes         Yes             Month-to-month Yes             \n",
       "  PaymentMethod             MonthlyCharges TotalCharges Churn\n",
       "1 Electronic check          29.85            29.85      No   \n",
       "2 Mailed check              56.95          1889.50      No   \n",
       "3 Mailed check              53.85           108.15      Yes  \n",
       "4 Bank transfer (automatic) 42.30          1840.75      No   \n",
       "5 Electronic check          70.70           151.65      Yes  \n",
       "6 Electronic check          99.65           820.50      Yes  "
      ]
     },
     "metadata": {},
     "output_type": "display_data"
    },
    {
     "data": {
      "text/html": [
       "<style>\n",
       ".list-inline {list-style: none; margin:0; padding: 0}\n",
       ".list-inline>li {display: inline-block}\n",
       ".list-inline>li:not(:last-child)::after {content: \"\\00b7\"; padding: 0 .5ex}\n",
       "</style>\n",
       "<ol class=list-inline><li>7043</li><li>21</li></ol>\n"
      ],
      "text/latex": [
       "\\begin{enumerate*}\n",
       "\\item 7043\n",
       "\\item 21\n",
       "\\end{enumerate*}\n"
      ],
      "text/markdown": [
       "1. 7043\n",
       "2. 21\n",
       "\n",
       "\n"
      ],
      "text/plain": [
       "[1] 7043   21"
      ]
     },
     "metadata": {},
     "output_type": "display_data"
    },
    {
     "name": "stdout",
     "output_type": "stream",
     "text": [
      "'data.frame':\t7043 obs. of  21 variables:\n",
      " $ customerID      : chr  \"7590-VHVEG\" \"5575-GNVDE\" \"3668-QPYBK\" \"7795-CFOCW\" ...\n",
      " $ gender          : chr  \"Female\" \"Male\" \"Male\" \"Male\" ...\n",
      " $ SeniorCitizen   : int  0 0 0 0 0 0 0 0 0 0 ...\n",
      " $ Partner         : chr  \"Yes\" \"No\" \"No\" \"No\" ...\n",
      " $ Dependents      : chr  \"No\" \"No\" \"No\" \"No\" ...\n",
      " $ tenure          : int  1 34 2 45 2 8 22 10 28 62 ...\n",
      " $ PhoneService    : chr  \"No\" \"Yes\" \"Yes\" \"No\" ...\n",
      " $ MultipleLines   : chr  \"No phone service\" \"No\" \"No\" \"No phone service\" ...\n",
      " $ InternetService : chr  \"DSL\" \"DSL\" \"DSL\" \"DSL\" ...\n",
      " $ OnlineSecurity  : chr  \"No\" \"Yes\" \"Yes\" \"Yes\" ...\n",
      " $ OnlineBackup    : chr  \"Yes\" \"No\" \"Yes\" \"No\" ...\n",
      " $ DeviceProtection: chr  \"No\" \"Yes\" \"No\" \"Yes\" ...\n",
      " $ TechSupport     : chr  \"No\" \"No\" \"No\" \"Yes\" ...\n",
      " $ StreamingTV     : chr  \"No\" \"No\" \"No\" \"No\" ...\n",
      " $ StreamingMovies : chr  \"No\" \"No\" \"No\" \"No\" ...\n",
      " $ Contract        : chr  \"Month-to-month\" \"One year\" \"Month-to-month\" \"One year\" ...\n",
      " $ PaperlessBilling: chr  \"Yes\" \"No\" \"Yes\" \"No\" ...\n",
      " $ PaymentMethod   : chr  \"Electronic check\" \"Mailed check\" \"Mailed check\" \"Bank transfer (automatic)\" ...\n",
      " $ MonthlyCharges  : num  29.9 57 53.9 42.3 70.7 ...\n",
      " $ TotalCharges    : num  29.9 1889.5 108.2 1840.8 151.7 ...\n",
      " $ Churn           : chr  \"No\" \"No\" \"Yes\" \"No\" ...\n"
     ]
    }
   ],
   "source": [
    "df <- read.csv('C:/Users/user/OneDrive/Desktop/Self Project/WA_Fn-UseC_-Telco-Customer-Churn.csv')\n",
    "head(df)\n",
    "dim(df)\n",
    "str(df)\n",
    "n <- nrow(df)"
   ]
  },
  {
   "cell_type": "markdown",
   "id": "353928f6",
   "metadata": {},
   "source": [
    "# Data Preprocessing"
   ]
  },
  {
   "cell_type": "code",
   "execution_count": 3,
   "id": "3e5712ad",
   "metadata": {},
   "outputs": [
    {
     "data": {
      "text/html": [
       "<style>\n",
       ".list-inline {list-style: none; margin:0; padding: 0}\n",
       ".list-inline>li {display: inline-block}\n",
       ".list-inline>li:not(:last-child)::after {content: \"\\00b7\"; padding: 0 .5ex}\n",
       "</style>\n",
       "<ol class=list-inline><li>'customerID'</li><li>'gender'</li><li>'SeniorCitizen'</li><li>'Partner'</li><li>'Dependents'</li><li>'tenure'</li><li>'PhoneService'</li><li>'MultipleLines'</li><li>'InternetService'</li><li>'OnlineSecurity'</li><li>'OnlineBackup'</li><li>'DeviceProtection'</li><li>'TechSupport'</li><li>'StreamingTV'</li><li>'StreamingMovies'</li><li>'Contract'</li><li>'PaperlessBilling'</li><li>'PaymentMethod'</li><li>'MonthlyCharges'</li><li>'TotalCharges'</li><li>'Churn'</li></ol>\n"
      ],
      "text/latex": [
       "\\begin{enumerate*}\n",
       "\\item 'customerID'\n",
       "\\item 'gender'\n",
       "\\item 'SeniorCitizen'\n",
       "\\item 'Partner'\n",
       "\\item 'Dependents'\n",
       "\\item 'tenure'\n",
       "\\item 'PhoneService'\n",
       "\\item 'MultipleLines'\n",
       "\\item 'InternetService'\n",
       "\\item 'OnlineSecurity'\n",
       "\\item 'OnlineBackup'\n",
       "\\item 'DeviceProtection'\n",
       "\\item 'TechSupport'\n",
       "\\item 'StreamingTV'\n",
       "\\item 'StreamingMovies'\n",
       "\\item 'Contract'\n",
       "\\item 'PaperlessBilling'\n",
       "\\item 'PaymentMethod'\n",
       "\\item 'MonthlyCharges'\n",
       "\\item 'TotalCharges'\n",
       "\\item 'Churn'\n",
       "\\end{enumerate*}\n"
      ],
      "text/markdown": [
       "1. 'customerID'\n",
       "2. 'gender'\n",
       "3. 'SeniorCitizen'\n",
       "4. 'Partner'\n",
       "5. 'Dependents'\n",
       "6. 'tenure'\n",
       "7. 'PhoneService'\n",
       "8. 'MultipleLines'\n",
       "9. 'InternetService'\n",
       "10. 'OnlineSecurity'\n",
       "11. 'OnlineBackup'\n",
       "12. 'DeviceProtection'\n",
       "13. 'TechSupport'\n",
       "14. 'StreamingTV'\n",
       "15. 'StreamingMovies'\n",
       "16. 'Contract'\n",
       "17. 'PaperlessBilling'\n",
       "18. 'PaymentMethod'\n",
       "19. 'MonthlyCharges'\n",
       "20. 'TotalCharges'\n",
       "21. 'Churn'\n",
       "\n",
       "\n"
      ],
      "text/plain": [
       " [1] \"customerID\"       \"gender\"           \"SeniorCitizen\"    \"Partner\"         \n",
       " [5] \"Dependents\"       \"tenure\"           \"PhoneService\"     \"MultipleLines\"   \n",
       " [9] \"InternetService\"  \"OnlineSecurity\"   \"OnlineBackup\"     \"DeviceProtection\"\n",
       "[13] \"TechSupport\"      \"StreamingTV\"      \"StreamingMovies\"  \"Contract\"        \n",
       "[17] \"PaperlessBilling\" \"PaymentMethod\"    \"MonthlyCharges\"   \"TotalCharges\"    \n",
       "[21] \"Churn\"           "
      ]
     },
     "metadata": {},
     "output_type": "display_data"
    },
    {
     "data": {
      "text/html": [
       "<table class=\"dataframe\">\n",
       "<caption>A data.frame: 6 × 20</caption>\n",
       "<thead>\n",
       "\t<tr><th></th><th scope=col>gender</th><th scope=col>SeniorCitizen</th><th scope=col>Partner</th><th scope=col>Dependents</th><th scope=col>tenure</th><th scope=col>PhoneService</th><th scope=col>MultipleLines</th><th scope=col>InternetService</th><th scope=col>OnlineSecurity</th><th scope=col>OnlineBackup</th><th scope=col>DeviceProtection</th><th scope=col>TechSupport</th><th scope=col>StreamingTV</th><th scope=col>StreamingMovies</th><th scope=col>Contract</th><th scope=col>PaperlessBilling</th><th scope=col>PaymentMethod</th><th scope=col>MonthlyCharges</th><th scope=col>TotalCharges</th><th scope=col>Churn</th></tr>\n",
       "\t<tr><th></th><th scope=col>&lt;chr&gt;</th><th scope=col>&lt;int&gt;</th><th scope=col>&lt;chr&gt;</th><th scope=col>&lt;chr&gt;</th><th scope=col>&lt;int&gt;</th><th scope=col>&lt;chr&gt;</th><th scope=col>&lt;chr&gt;</th><th scope=col>&lt;chr&gt;</th><th scope=col>&lt;chr&gt;</th><th scope=col>&lt;chr&gt;</th><th scope=col>&lt;chr&gt;</th><th scope=col>&lt;chr&gt;</th><th scope=col>&lt;chr&gt;</th><th scope=col>&lt;chr&gt;</th><th scope=col>&lt;chr&gt;</th><th scope=col>&lt;chr&gt;</th><th scope=col>&lt;chr&gt;</th><th scope=col>&lt;dbl&gt;</th><th scope=col>&lt;dbl&gt;</th><th scope=col>&lt;chr&gt;</th></tr>\n",
       "</thead>\n",
       "<tbody>\n",
       "\t<tr><th scope=row>1</th><td>Female</td><td>0</td><td>Yes</td><td>No</td><td> 1</td><td>No </td><td>No phone service</td><td>DSL        </td><td>No </td><td>Yes</td><td>No </td><td>No </td><td>No </td><td>No </td><td>Month-to-month</td><td>Yes</td><td>Electronic check         </td><td>29.85</td><td>  29.85</td><td>No </td></tr>\n",
       "\t<tr><th scope=row>2</th><td>Male  </td><td>0</td><td>No </td><td>No</td><td>34</td><td>Yes</td><td>No              </td><td>DSL        </td><td>Yes</td><td>No </td><td>Yes</td><td>No </td><td>No </td><td>No </td><td>One year      </td><td>No </td><td>Mailed check             </td><td>56.95</td><td>1889.50</td><td>No </td></tr>\n",
       "\t<tr><th scope=row>3</th><td>Male  </td><td>0</td><td>No </td><td>No</td><td> 2</td><td>Yes</td><td>No              </td><td>DSL        </td><td>Yes</td><td>Yes</td><td>No </td><td>No </td><td>No </td><td>No </td><td>Month-to-month</td><td>Yes</td><td>Mailed check             </td><td>53.85</td><td> 108.15</td><td>Yes</td></tr>\n",
       "\t<tr><th scope=row>4</th><td>Male  </td><td>0</td><td>No </td><td>No</td><td>45</td><td>No </td><td>No phone service</td><td>DSL        </td><td>Yes</td><td>No </td><td>Yes</td><td>Yes</td><td>No </td><td>No </td><td>One year      </td><td>No </td><td>Bank transfer (automatic)</td><td>42.30</td><td>1840.75</td><td>No </td></tr>\n",
       "\t<tr><th scope=row>5</th><td>Female</td><td>0</td><td>No </td><td>No</td><td> 2</td><td>Yes</td><td>No              </td><td>Fiber optic</td><td>No </td><td>No </td><td>No </td><td>No </td><td>No </td><td>No </td><td>Month-to-month</td><td>Yes</td><td>Electronic check         </td><td>70.70</td><td> 151.65</td><td>Yes</td></tr>\n",
       "\t<tr><th scope=row>6</th><td>Female</td><td>0</td><td>No </td><td>No</td><td> 8</td><td>Yes</td><td>Yes             </td><td>Fiber optic</td><td>No </td><td>No </td><td>Yes</td><td>No </td><td>Yes</td><td>Yes</td><td>Month-to-month</td><td>Yes</td><td>Electronic check         </td><td>99.65</td><td> 820.50</td><td>Yes</td></tr>\n",
       "</tbody>\n",
       "</table>\n"
      ],
      "text/latex": [
       "A data.frame: 6 × 20\n",
       "\\begin{tabular}{r|llllllllllllllllllll}\n",
       "  & gender & SeniorCitizen & Partner & Dependents & tenure & PhoneService & MultipleLines & InternetService & OnlineSecurity & OnlineBackup & DeviceProtection & TechSupport & StreamingTV & StreamingMovies & Contract & PaperlessBilling & PaymentMethod & MonthlyCharges & TotalCharges & Churn\\\\\n",
       "  & <chr> & <int> & <chr> & <chr> & <int> & <chr> & <chr> & <chr> & <chr> & <chr> & <chr> & <chr> & <chr> & <chr> & <chr> & <chr> & <chr> & <dbl> & <dbl> & <chr>\\\\\n",
       "\\hline\n",
       "\t1 & Female & 0 & Yes & No &  1 & No  & No phone service & DSL         & No  & Yes & No  & No  & No  & No  & Month-to-month & Yes & Electronic check          & 29.85 &   29.85 & No \\\\\n",
       "\t2 & Male   & 0 & No  & No & 34 & Yes & No               & DSL         & Yes & No  & Yes & No  & No  & No  & One year       & No  & Mailed check              & 56.95 & 1889.50 & No \\\\\n",
       "\t3 & Male   & 0 & No  & No &  2 & Yes & No               & DSL         & Yes & Yes & No  & No  & No  & No  & Month-to-month & Yes & Mailed check              & 53.85 &  108.15 & Yes\\\\\n",
       "\t4 & Male   & 0 & No  & No & 45 & No  & No phone service & DSL         & Yes & No  & Yes & Yes & No  & No  & One year       & No  & Bank transfer (automatic) & 42.30 & 1840.75 & No \\\\\n",
       "\t5 & Female & 0 & No  & No &  2 & Yes & No               & Fiber optic & No  & No  & No  & No  & No  & No  & Month-to-month & Yes & Electronic check          & 70.70 &  151.65 & Yes\\\\\n",
       "\t6 & Female & 0 & No  & No &  8 & Yes & Yes              & Fiber optic & No  & No  & Yes & No  & Yes & Yes & Month-to-month & Yes & Electronic check          & 99.65 &  820.50 & Yes\\\\\n",
       "\\end{tabular}\n"
      ],
      "text/markdown": [
       "\n",
       "A data.frame: 6 × 20\n",
       "\n",
       "| <!--/--> | gender &lt;chr&gt; | SeniorCitizen &lt;int&gt; | Partner &lt;chr&gt; | Dependents &lt;chr&gt; | tenure &lt;int&gt; | PhoneService &lt;chr&gt; | MultipleLines &lt;chr&gt; | InternetService &lt;chr&gt; | OnlineSecurity &lt;chr&gt; | OnlineBackup &lt;chr&gt; | DeviceProtection &lt;chr&gt; | TechSupport &lt;chr&gt; | StreamingTV &lt;chr&gt; | StreamingMovies &lt;chr&gt; | Contract &lt;chr&gt; | PaperlessBilling &lt;chr&gt; | PaymentMethod &lt;chr&gt; | MonthlyCharges &lt;dbl&gt; | TotalCharges &lt;dbl&gt; | Churn &lt;chr&gt; |\n",
       "|---|---|---|---|---|---|---|---|---|---|---|---|---|---|---|---|---|---|---|---|---|\n",
       "| 1 | Female | 0 | Yes | No |  1 | No  | No phone service | DSL         | No  | Yes | No  | No  | No  | No  | Month-to-month | Yes | Electronic check          | 29.85 |   29.85 | No  |\n",
       "| 2 | Male   | 0 | No  | No | 34 | Yes | No               | DSL         | Yes | No  | Yes | No  | No  | No  | One year       | No  | Mailed check              | 56.95 | 1889.50 | No  |\n",
       "| 3 | Male   | 0 | No  | No |  2 | Yes | No               | DSL         | Yes | Yes | No  | No  | No  | No  | Month-to-month | Yes | Mailed check              | 53.85 |  108.15 | Yes |\n",
       "| 4 | Male   | 0 | No  | No | 45 | No  | No phone service | DSL         | Yes | No  | Yes | Yes | No  | No  | One year       | No  | Bank transfer (automatic) | 42.30 | 1840.75 | No  |\n",
       "| 5 | Female | 0 | No  | No |  2 | Yes | No               | Fiber optic | No  | No  | No  | No  | No  | No  | Month-to-month | Yes | Electronic check          | 70.70 |  151.65 | Yes |\n",
       "| 6 | Female | 0 | No  | No |  8 | Yes | Yes              | Fiber optic | No  | No  | Yes | No  | Yes | Yes | Month-to-month | Yes | Electronic check          | 99.65 |  820.50 | Yes |\n",
       "\n"
      ],
      "text/plain": [
       "  gender SeniorCitizen Partner Dependents tenure PhoneService MultipleLines   \n",
       "1 Female 0             Yes     No          1     No           No phone service\n",
       "2 Male   0             No      No         34     Yes          No              \n",
       "3 Male   0             No      No          2     Yes          No              \n",
       "4 Male   0             No      No         45     No           No phone service\n",
       "5 Female 0             No      No          2     Yes          No              \n",
       "6 Female 0             No      No          8     Yes          Yes             \n",
       "  InternetService OnlineSecurity OnlineBackup DeviceProtection TechSupport\n",
       "1 DSL             No             Yes          No               No         \n",
       "2 DSL             Yes            No           Yes              No         \n",
       "3 DSL             Yes            Yes          No               No         \n",
       "4 DSL             Yes            No           Yes              Yes        \n",
       "5 Fiber optic     No             No           No               No         \n",
       "6 Fiber optic     No             No           Yes              No         \n",
       "  StreamingTV StreamingMovies Contract       PaperlessBilling\n",
       "1 No          No              Month-to-month Yes             \n",
       "2 No          No              One year       No              \n",
       "3 No          No              Month-to-month Yes             \n",
       "4 No          No              One year       No              \n",
       "5 No          No              Month-to-month Yes             \n",
       "6 Yes         Yes             Month-to-month Yes             \n",
       "  PaymentMethod             MonthlyCharges TotalCharges Churn\n",
       "1 Electronic check          29.85            29.85      No   \n",
       "2 Mailed check              56.95          1889.50      No   \n",
       "3 Mailed check              53.85           108.15      Yes  \n",
       "4 Bank transfer (automatic) 42.30          1840.75      No   \n",
       "5 Electronic check          70.70           151.65      Yes  \n",
       "6 Electronic check          99.65           820.50      Yes  "
      ]
     },
     "metadata": {},
     "output_type": "display_data"
    }
   ],
   "source": [
    "#id column remove\n",
    "colnames(df)\n",
    "df <- df[-which(colnames(df) == 'customerID')]\n",
    "head(df)"
   ]
  },
  {
   "cell_type": "code",
   "execution_count": 4,
   "id": "da5a9920",
   "metadata": {},
   "outputs": [
    {
     "name": "stdout",
     "output_type": "stream",
     "text": [
      "'data.frame':\t7043 obs. of  20 variables:\n",
      " $ gender          : chr  \"Female\" \"Male\" \"Male\" \"Male\" ...\n",
      " $ SeniorCitizen   : int  0 0 0 0 0 0 0 0 0 0 ...\n",
      " $ Partner         : chr  \"Yes\" \"No\" \"No\" \"No\" ...\n",
      " $ Dependents      : chr  \"No\" \"No\" \"No\" \"No\" ...\n",
      " $ tenure          : int  1 34 2 45 2 8 22 10 28 62 ...\n",
      " $ PhoneService    : chr  \"No\" \"Yes\" \"Yes\" \"No\" ...\n",
      " $ MultipleLines   : chr  \"No phone service\" \"No\" \"No\" \"No phone service\" ...\n",
      " $ InternetService : chr  \"DSL\" \"DSL\" \"DSL\" \"DSL\" ...\n",
      " $ OnlineSecurity  : chr  \"No\" \"Yes\" \"Yes\" \"Yes\" ...\n",
      " $ OnlineBackup    : chr  \"Yes\" \"No\" \"Yes\" \"No\" ...\n",
      " $ DeviceProtection: chr  \"No\" \"Yes\" \"No\" \"Yes\" ...\n",
      " $ TechSupport     : chr  \"No\" \"No\" \"No\" \"Yes\" ...\n",
      " $ StreamingTV     : chr  \"No\" \"No\" \"No\" \"No\" ...\n",
      " $ StreamingMovies : chr  \"No\" \"No\" \"No\" \"No\" ...\n",
      " $ Contract        : chr  \"Month-to-month\" \"One year\" \"Month-to-month\" \"One year\" ...\n",
      " $ PaperlessBilling: chr  \"Yes\" \"No\" \"Yes\" \"No\" ...\n",
      " $ PaymentMethod   : chr  \"Electronic check\" \"Mailed check\" \"Mailed check\" \"Bank transfer (automatic)\" ...\n",
      " $ MonthlyCharges  : num  29.9 57 53.9 42.3 70.7 ...\n",
      " $ TotalCharges    : num  29.9 1889.5 108.2 1840.8 151.7 ...\n",
      " $ Churn           : chr  \"No\" \"No\" \"Yes\" \"No\" ...\n"
     ]
    }
   ],
   "source": [
    "#missing value imputation\n",
    "df$TotalCharges <- as.numeric(df$TotalCharges)\n",
    "miss = which(is.na(df$TotalCharges) == TRUE)\n",
    "df$TotalCharges[miss] <- median(df$TotalCharges, na.rm = TRUE) \n",
    "str(df)"
   ]
  },
  {
   "cell_type": "code",
   "execution_count": 5,
   "id": "e1cd52fc",
   "metadata": {},
   "outputs": [
    {
     "name": "stdout",
     "output_type": "stream",
     "text": [
      "'data.frame':\t7043 obs. of  20 variables:\n",
      " $ gender          : Factor w/ 2 levels \"Female\",\"Male\": 1 2 2 2 1 1 2 1 1 2 ...\n",
      " $ SeniorCitizen   : Factor w/ 2 levels \"0\",\"1\": 1 1 1 1 1 1 1 1 1 1 ...\n",
      " $ Partner         : Factor w/ 2 levels \"No\",\"Yes\": 2 1 1 1 1 1 1 1 2 1 ...\n",
      " $ Dependents      : Factor w/ 2 levels \"No\",\"Yes\": 1 1 1 1 1 1 2 1 1 2 ...\n",
      " $ tenure          : int  1 34 2 45 2 8 22 10 28 62 ...\n",
      " $ PhoneService    : Factor w/ 2 levels \"No\",\"Yes\": 1 2 2 1 2 2 2 1 2 2 ...\n",
      " $ MultipleLines   : Factor w/ 2 levels \"No\",\"Yes\": 1 1 1 1 1 2 2 1 2 1 ...\n",
      " $ InternetService : Factor w/ 2 levels \"No\",\"Yes\": 2 2 2 2 2 2 2 2 2 2 ...\n",
      " $ OnlineSecurity  : Factor w/ 2 levels \"No\",\"Yes\": 1 2 2 2 1 1 1 2 1 2 ...\n",
      " $ OnlineBackup    : Factor w/ 2 levels \"No\",\"Yes\": 2 1 2 1 1 1 2 1 1 2 ...\n",
      " $ DeviceProtection: Factor w/ 2 levels \"No\",\"Yes\": 1 2 1 2 1 2 1 1 2 1 ...\n",
      " $ TechSupport     : Factor w/ 2 levels \"No\",\"Yes\": 1 1 1 2 1 1 1 1 2 1 ...\n",
      " $ StreamingTV     : Factor w/ 2 levels \"No\",\"Yes\": 1 1 1 1 1 2 2 1 2 1 ...\n",
      " $ StreamingMovies : Factor w/ 2 levels \"No\",\"Yes\": 1 1 1 1 1 2 1 1 2 1 ...\n",
      " $ Contract        : Factor w/ 3 levels \"Month-to-month\",..: 1 2 1 2 1 1 1 1 1 2 ...\n",
      " $ PaperlessBilling: Factor w/ 2 levels \"No\",\"Yes\": 2 1 2 1 2 2 2 1 2 1 ...\n",
      " $ PaymentMethod   : Factor w/ 4 levels \"Bank transfer (automatic)\",..: 3 4 4 1 3 3 2 4 3 1 ...\n",
      " $ MonthlyCharges  : num  29.9 57 53.9 42.3 70.7 ...\n",
      " $ TotalCharges    : num  29.9 1889.5 108.2 1840.8 151.7 ...\n",
      " $ Churn           : Factor w/ 2 levels \"No\",\"Yes\": 1 1 2 1 2 2 1 1 2 1 ...\n"
     ]
    }
   ],
   "source": [
    "#No Service to No\n",
    "for(i in (which(colnames(df) == 'OnlineSecurity') : which(colnames(df) == 'StreamingMovies'))){\n",
    "  df[i] <- as.factor(ifelse(df[i] != 'Yes', 'No', 'Yes'))\n",
    "}\n",
    "df$InternetService <- as.factor(ifelse(df$InternetService != 'No', 'Yes', 'No'))\n",
    "df$MultipleLines <- as.factor(ifelse(df$MultipleLines != 'Yes', 'No', 'Yes'))\n",
    "df$SeniorCitizen <- as.factor(df$SeniorCitizen)\n",
    "\n",
    "for(i in 1:ncol(df)){\n",
    "  if(class(df[,i]) == 'character'){\n",
    "    df[,i] <- as.factor(df[,i])\n",
    "  }\n",
    "}\n",
    "str(df)"
   ]
  },
  {
   "cell_type": "markdown",
   "id": "bf7983ea",
   "metadata": {},
   "source": [
    "# Exploratory Data Analysis"
   ]
  },
  {
   "cell_type": "code",
   "execution_count": 6,
   "id": "0497dfdd",
   "metadata": {},
   "outputs": [
    {
     "data": {
      "image/png": "[encoded data removed]",
      "text/plain": [
       "Plot with title \"\""
      ]
     },
     "metadata": {
      "image/png": {
       "height": 420,
       "width": 420
      }
     },
     "output_type": "display_data"
    }
   ],
   "source": [
    "#Correlation between numeric variables\n",
    "cr <-cor(df[,c(5,18,19)])\n",
    "corrplot(cr, method=\"circle\")"
   ]
  },
  {
   "cell_type": "code",
   "execution_count": 7,
   "id": "e3194e90",
   "metadata": {},
   "outputs": [
    {
     "data": {
      "image/png": "[encoded data removed]",
      "text/plain": [
       "plot without title"
      ]
     },
     "metadata": {
      "image/png": {
       "height": 420,
       "width": 420
      }
     },
     "output_type": "display_data"
    }
   ],
   "source": [
    "p1 <- ggplot(df, aes(x = Churn, fill = Churn)) +facet_grid(~gender)+ geom_bar() +ggtitle(\"Churn - Gender\") + theme_bw()\n",
    "p2 <- ggplot(df, aes(x = Churn, fill = Churn)) +facet_grid(~SeniorCitizen)+ geom_bar() + ggtitle(\"Churn - SeniorCitizen\") + theme_bw()\n",
    "p3 <- ggplot(df, aes(x = Churn, fill = Churn)) +facet_grid(~Dependents)+ geom_bar() + ggtitle(\"Churn - Dependents\") + theme_bw()\n",
    "p4 <- ggplot(df, aes(x = Churn, fill = Churn)) +facet_grid(~Partner)+ geom_bar() + ggtitle(\"Churn - Partner\") + theme_bw()\n",
    "p5 <- ggplot(df, aes(x = Churn, fill = Churn)) +facet_grid(~PhoneService)+ geom_bar() + ggtitle(\"Churn - PhoneService\")+ theme_bw()\n",
    "p6 <- ggplot(df, aes(x = Churn, fill = Churn)) +facet_grid(~InternetService)+ geom_bar() + ggtitle(\"Churn - InternetService\") + theme_bw()\n",
    "p7 <- ggplot(df, aes(x = Churn, fill = Churn)) +facet_grid(~PaperlessBilling)+ geom_bar() + ggtitle(\"Churn - PaperlessBilling\") + theme_bw()\n",
    "p8 <- ggplot(df, aes(x = Churn, fill = Churn)) +facet_grid(~PaymentMethod)+ geom_bar() + ggtitle(\"Churn - Payment Method\") + theme_bw()\n",
    "ggpubr::ggarrange(p1,p2,p3,p4,p5,p6,p7,p8, nrow = 3, ncol = 3)"
   ]
  },
  {
   "cell_type": "markdown",
   "id": "b25c5661",
   "metadata": {},
   "source": [
    "# Dummification"
   ]
  },
  {
   "cell_type": "code",
   "execution_count": 8,
   "id": "9008ab27",
   "metadata": {},
   "outputs": [
    {
     "data": {
      "text/html": [
       "<table class=\"dataframe\">\n",
       "<caption>A data.frame: 6 × 22</caption>\n",
       "<thead>\n",
       "\t<tr><th></th><th scope=col>gender</th><th scope=col>SeniorCitizen</th><th scope=col>Partner</th><th scope=col>Dependents</th><th scope=col>tenure</th><th scope=col>PhoneService</th><th scope=col>MultipleLines</th><th scope=col>InternetService</th><th scope=col>OnlineSecurity</th><th scope=col>OnlineBackup</th><th scope=col>...</th><th scope=col>StreamingTV</th><th scope=col>StreamingMovies</th><th scope=col>PaperlessBilling</th><th scope=col>MonthlyCharges</th><th scope=col>Churn</th><th scope=col>Contract.One.year</th><th scope=col>Contract.Two.year</th><th scope=col>PaymentMethod.Credit.card..automatic.</th><th scope=col>PaymentMethod.Electronic.check</th><th scope=col>PaymentMethod.Mailed.check</th></tr>\n",
       "\t<tr><th></th><th scope=col>&lt;fct&gt;</th><th scope=col>&lt;fct&gt;</th><th scope=col>&lt;fct&gt;</th><th scope=col>&lt;fct&gt;</th><th scope=col>&lt;int&gt;</th><th scope=col>&lt;fct&gt;</th><th scope=col>&lt;fct&gt;</th><th scope=col>&lt;fct&gt;</th><th scope=col>&lt;fct&gt;</th><th scope=col>&lt;fct&gt;</th><th scope=col>...</th><th scope=col>&lt;fct&gt;</th><th scope=col>&lt;fct&gt;</th><th scope=col>&lt;fct&gt;</th><th scope=col>&lt;dbl&gt;</th><th scope=col>&lt;fct&gt;</th><th scope=col>&lt;dbl&gt;</th><th scope=col>&lt;dbl&gt;</th><th scope=col>&lt;dbl&gt;</th><th scope=col>&lt;dbl&gt;</th><th scope=col>&lt;dbl&gt;</th></tr>\n",
       "</thead>\n",
       "<tbody>\n",
       "\t<tr><th scope=row>1</th><td>Female</td><td>0</td><td>Yes</td><td>No</td><td> 1</td><td>No </td><td>No </td><td>Yes</td><td>No </td><td>Yes</td><td>...</td><td>No </td><td>No </td><td>Yes</td><td>29.85</td><td>No </td><td>0</td><td>0</td><td>0</td><td>1</td><td>0</td></tr>\n",
       "\t<tr><th scope=row>2</th><td>Male  </td><td>0</td><td>No </td><td>No</td><td>34</td><td>Yes</td><td>No </td><td>Yes</td><td>Yes</td><td>No </td><td>...</td><td>No </td><td>No </td><td>No </td><td>56.95</td><td>No </td><td>1</td><td>0</td><td>0</td><td>0</td><td>1</td></tr>\n",
       "\t<tr><th scope=row>3</th><td>Male  </td><td>0</td><td>No </td><td>No</td><td> 2</td><td>Yes</td><td>No </td><td>Yes</td><td>Yes</td><td>Yes</td><td>...</td><td>No </td><td>No </td><td>Yes</td><td>53.85</td><td>Yes</td><td>0</td><td>0</td><td>0</td><td>0</td><td>1</td></tr>\n",
       "\t<tr><th scope=row>4</th><td>Male  </td><td>0</td><td>No </td><td>No</td><td>45</td><td>No </td><td>No </td><td>Yes</td><td>Yes</td><td>No </td><td>...</td><td>No </td><td>No </td><td>No </td><td>42.30</td><td>No </td><td>1</td><td>0</td><td>0</td><td>0</td><td>0</td></tr>\n",
       "\t<tr><th scope=row>5</th><td>Female</td><td>0</td><td>No </td><td>No</td><td> 2</td><td>Yes</td><td>No </td><td>Yes</td><td>No </td><td>No </td><td>...</td><td>No </td><td>No </td><td>Yes</td><td>70.70</td><td>Yes</td><td>0</td><td>0</td><td>0</td><td>1</td><td>0</td></tr>\n",
       "\t<tr><th scope=row>6</th><td>Female</td><td>0</td><td>No </td><td>No</td><td> 8</td><td>Yes</td><td>Yes</td><td>Yes</td><td>No </td><td>No </td><td>...</td><td>Yes</td><td>Yes</td><td>Yes</td><td>99.65</td><td>Yes</td><td>0</td><td>0</td><td>0</td><td>1</td><td>0</td></tr>\n",
       "</tbody>\n",
       "</table>\n"
      ],
      "text/latex": [
       "A data.frame: 6 × 22\n",
       "\\begin{tabular}{r|lllllllllllllllllllll}\n",
       "  & gender & SeniorCitizen & Partner & Dependents & tenure & PhoneService & MultipleLines & InternetService & OnlineSecurity & OnlineBackup & ... & StreamingTV & StreamingMovies & PaperlessBilling & MonthlyCharges & Churn & Contract.One.year & Contract.Two.year & PaymentMethod.Credit.card..automatic. & PaymentMethod.Electronic.check & PaymentMethod.Mailed.check\\\\\n",
       "  & <fct> & <fct> & <fct> & <fct> & <int> & <fct> & <fct> & <fct> & <fct> & <fct> & ... & <fct> & <fct> & <fct> & <dbl> & <fct> & <dbl> & <dbl> & <dbl> & <dbl> & <dbl>\\\\\n",
       "\\hline\n",
       "\t1 & Female & 0 & Yes & No &  1 & No  & No  & Yes & No  & Yes & ... & No  & No  & Yes & 29.85 & No  & 0 & 0 & 0 & 1 & 0\\\\\n",
       "\t2 & Male   & 0 & No  & No & 34 & Yes & No  & Yes & Yes & No  & ... & No  & No  & No  & 56.95 & No  & 1 & 0 & 0 & 0 & 1\\\\\n",
       "\t3 & Male   & 0 & No  & No &  2 & Yes & No  & Yes & Yes & Yes & ... & No  & No  & Yes & 53.85 & Yes & 0 & 0 & 0 & 0 & 1\\\\\n",
       "\t4 & Male   & 0 & No  & No & 45 & No  & No  & Yes & Yes & No  & ... & No  & No  & No  & 42.30 & No  & 1 & 0 & 0 & 0 & 0\\\\\n",
       "\t5 & Female & 0 & No  & No &  2 & Yes & No  & Yes & No  & No  & ... & No  & No  & Yes & 70.70 & Yes & 0 & 0 & 0 & 1 & 0\\\\\n",
       "\t6 & Female & 0 & No  & No &  8 & Yes & Yes & Yes & No  & No  & ... & Yes & Yes & Yes & 99.65 & Yes & 0 & 0 & 0 & 1 & 0\\\\\n",
       "\\end{tabular}\n"
      ],
      "text/markdown": [
       "\n",
       "A data.frame: 6 × 22\n",
       "\n",
       "| <!--/--> | gender &lt;fct&gt; | SeniorCitizen &lt;fct&gt; | Partner &lt;fct&gt; | Dependents &lt;fct&gt; | tenure &lt;int&gt; | PhoneService &lt;fct&gt; | MultipleLines &lt;fct&gt; | InternetService &lt;fct&gt; | OnlineSecurity &lt;fct&gt; | OnlineBackup &lt;fct&gt; | ... ... | StreamingTV &lt;fct&gt; | StreamingMovies &lt;fct&gt; | PaperlessBilling &lt;fct&gt; | MonthlyCharges &lt;dbl&gt; | Churn &lt;fct&gt; | Contract.One.year &lt;dbl&gt; | Contract.Two.year &lt;dbl&gt; | PaymentMethod.Credit.card..automatic. &lt;dbl&gt; | PaymentMethod.Electronic.check &lt;dbl&gt; | PaymentMethod.Mailed.check &lt;dbl&gt; |\n",
       "|---|---|---|---|---|---|---|---|---|---|---|---|---|---|---|---|---|---|---|---|---|---|\n",
       "| 1 | Female | 0 | Yes | No |  1 | No  | No  | Yes | No  | Yes | ... | No  | No  | Yes | 29.85 | No  | 0 | 0 | 0 | 1 | 0 |\n",
       "| 2 | Male   | 0 | No  | No | 34 | Yes | No  | Yes | Yes | No  | ... | No  | No  | No  | 56.95 | No  | 1 | 0 | 0 | 0 | 1 |\n",
       "| 3 | Male   | 0 | No  | No |  2 | Yes | No  | Yes | Yes | Yes | ... | No  | No  | Yes | 53.85 | Yes | 0 | 0 | 0 | 0 | 1 |\n",
       "| 4 | Male   | 0 | No  | No | 45 | No  | No  | Yes | Yes | No  | ... | No  | No  | No  | 42.30 | No  | 1 | 0 | 0 | 0 | 0 |\n",
       "| 5 | Female | 0 | No  | No |  2 | Yes | No  | Yes | No  | No  | ... | No  | No  | Yes | 70.70 | Yes | 0 | 0 | 0 | 1 | 0 |\n",
       "| 6 | Female | 0 | No  | No |  8 | Yes | Yes | Yes | No  | No  | ... | Yes | Yes | Yes | 99.65 | Yes | 0 | 0 | 0 | 1 | 0 |\n",
       "\n"
      ],
      "text/plain": [
       "  gender SeniorCitizen Partner Dependents tenure PhoneService MultipleLines\n",
       "1 Female 0             Yes     No          1     No           No           \n",
       "2 Male   0             No      No         34     Yes          No           \n",
       "3 Male   0             No      No          2     Yes          No           \n",
       "4 Male   0             No      No         45     No           No           \n",
       "5 Female 0             No      No          2     Yes          No           \n",
       "6 Female 0             No      No          8     Yes          Yes          \n",
       "  InternetService OnlineSecurity OnlineBackup ... StreamingTV StreamingMovies\n",
       "1 Yes             No             Yes          ... No          No             \n",
       "2 Yes             Yes            No           ... No          No             \n",
       "3 Yes             Yes            Yes          ... No          No             \n",
       "4 Yes             Yes            No           ... No          No             \n",
       "5 Yes             No             No           ... No          No             \n",
       "6 Yes             No             No           ... Yes         Yes            \n",
       "  PaperlessBilling MonthlyCharges Churn Contract.One.year Contract.Two.year\n",
       "1 Yes              29.85          No    0                 0                \n",
       "2 No               56.95          No    1                 0                \n",
       "3 Yes              53.85          Yes   0                 0                \n",
       "4 No               42.30          No    1                 0                \n",
       "5 Yes              70.70          Yes   0                 0                \n",
       "6 Yes              99.65          Yes   0                 0                \n",
       "  PaymentMethod.Credit.card..automatic. PaymentMethod.Electronic.check\n",
       "1 0                                     1                             \n",
       "2 0                                     0                             \n",
       "3 0                                     0                             \n",
       "4 0                                     0                             \n",
       "5 0                                     1                             \n",
       "6 0                                     1                             \n",
       "  PaymentMethod.Mailed.check\n",
       "1 0                         \n",
       "2 1                         \n",
       "3 1                         \n",
       "4 0                         \n",
       "5 0                         \n",
       "6 0                         "
      ]
     },
     "metadata": {},
     "output_type": "display_data"
    },
    {
     "name": "stderr",
     "output_type": "stream",
     "text": [
      "The following objects are masked from df (pos = 3):\n",
      "\n",
      "    Churn, Dependents, DeviceProtection, gender, InternetService,\n",
      "    MonthlyCharges, MultipleLines, OnlineBackup, OnlineSecurity,\n",
      "    PaperlessBilling, Partner, PhoneService, SeniorCitizen,\n",
      "    StreamingMovies, StreamingTV, TechSupport, tenure\n",
      "\n",
      "\n"
     ]
    },
    {
     "data": {
      "text/html": [
       "<style>\n",
       ".list-inline {list-style: none; margin:0; padding: 0}\n",
       ".list-inline>li {display: inline-block}\n",
       ".list-inline>li:not(:last-child)::after {content: \"\\00b7\"; padding: 0 .5ex}\n",
       "</style>\n",
       "<ol class=list-inline><li>7043</li><li>22</li></ol>\n"
      ],
      "text/latex": [
       "\\begin{enumerate*}\n",
       "\\item 7043\n",
       "\\item 22\n",
       "\\end{enumerate*}\n"
      ],
      "text/markdown": [
       "1. 7043\n",
       "2. 22\n",
       "\n",
       "\n"
      ],
      "text/plain": [
       "[1] 7043   22"
      ]
     },
     "metadata": {},
     "output_type": "display_data"
    }
   ],
   "source": [
    "attach(df)\n",
    "to_dummy <- data.frame(Contract,PaymentMethod)\n",
    "dmy <- dummyVars(\" ~ .\", data = to_dummy)\n",
    "df2 <- data.frame(predict(dmy, newdata = to_dummy))\n",
    "df2 <- df2[, !(colnames(df2) %in% c(\"Contract.Month.to.month\", \"PaymentMethod.Bank.transfer..automatic.\"))]\n",
    "df <- df[,!(colnames(df) %in% c(\"Contract\",\"PaymentMethod\",\"TotalCharges\"))]\n",
    "df <- cbind(df, df2)\n",
    "head(df)\n",
    "attach(df)\n",
    "dim(df)"
   ]
  },
  {
   "cell_type": "markdown",
   "id": "19315ab1",
   "metadata": {},
   "source": [
    "# Feature Selection"
   ]
  },
  {
   "cell_type": "code",
   "execution_count": 9,
   "id": "331926db",
   "metadata": {},
   "outputs": [
    {
     "data": {
      "text/html": [
       "<style>\n",
       ".list-inline {list-style: none; margin:0; padding: 0}\n",
       ".list-inline>li {display: inline-block}\n",
       ".list-inline>li:not(:last-child)::after {content: \"\\00b7\"; padding: 0 .5ex}\n",
       "</style>\n",
       "<ol class=list-inline><li>'which'</li><li>'rsq'</li><li>'rss'</li><li>'adjr2'</li><li>'cp'</li><li>'bic'</li><li>'outmat'</li><li>'obj'</li></ol>\n"
      ],
      "text/latex": [
       "\\begin{enumerate*}\n",
       "\\item 'which'\n",
       "\\item 'rsq'\n",
       "\\item 'rss'\n",
       "\\item 'adjr2'\n",
       "\\item 'cp'\n",
       "\\item 'bic'\n",
       "\\item 'outmat'\n",
       "\\item 'obj'\n",
       "\\end{enumerate*}\n"
      ],
      "text/markdown": [
       "1. 'which'\n",
       "2. 'rsq'\n",
       "3. 'rss'\n",
       "4. 'adjr2'\n",
       "5. 'cp'\n",
       "6. 'bic'\n",
       "7. 'outmat'\n",
       "8. 'obj'\n",
       "\n",
       "\n"
      ],
      "text/plain": [
       "[1] \"which\"  \"rsq\"    \"rss\"    \"adjr2\"  \"cp\"     \"bic\"    \"outmat\" \"obj\"   "
      ]
     },
     "metadata": {},
     "output_type": "display_data"
    },
    {
     "data": {
      "text/html": [
       "12"
      ],
      "text/latex": [
       "12"
      ],
      "text/markdown": [
       "12"
      ],
      "text/plain": [
       "[1] 12"
      ]
     },
     "metadata": {},
     "output_type": "display_data"
    },
    {
     "data": {
      "text/html": [
       "<style>\n",
       ".list-inline {list-style: none; margin:0; padding: 0}\n",
       ".list-inline>li {display: inline-block}\n",
       ".list-inline>li:not(:last-child)::after {content: \"\\00b7\"; padding: 0 .5ex}\n",
       "</style>\n",
       "<ol class=list-inline><li>'SeniorCitizen1'</li><li>'tenure'</li><li>'PhoneServiceYes'</li><li>'OnlineSecurityYes'</li><li>'OnlineBackupYes'</li><li>'DeviceProtectionYes'</li><li>'TechSupportYes'</li><li>'PaperlessBillingYes'</li><li>'MonthlyCharges'</li><li>'Contract.One.year'</li><li>'Contract.Two.year'</li><li>'PaymentMethod.Electronic.check'</li></ol>\n"
      ],
      "text/latex": [
       "\\begin{enumerate*}\n",
       "\\item 'SeniorCitizen1'\n",
       "\\item 'tenure'\n",
       "\\item 'PhoneServiceYes'\n",
       "\\item 'OnlineSecurityYes'\n",
       "\\item 'OnlineBackupYes'\n",
       "\\item 'DeviceProtectionYes'\n",
       "\\item 'TechSupportYes'\n",
       "\\item 'PaperlessBillingYes'\n",
       "\\item 'MonthlyCharges'\n",
       "\\item 'Contract.One.year'\n",
       "\\item 'Contract.Two.year'\n",
       "\\item 'PaymentMethod.Electronic.check'\n",
       "\\end{enumerate*}\n"
      ],
      "text/markdown": [
       "1. 'SeniorCitizen1'\n",
       "2. 'tenure'\n",
       "3. 'PhoneServiceYes'\n",
       "4. 'OnlineSecurityYes'\n",
       "5. 'OnlineBackupYes'\n",
       "6. 'DeviceProtectionYes'\n",
       "7. 'TechSupportYes'\n",
       "8. 'PaperlessBillingYes'\n",
       "9. 'MonthlyCharges'\n",
       "10. 'Contract.One.year'\n",
       "11. 'Contract.Two.year'\n",
       "12. 'PaymentMethod.Electronic.check'\n",
       "\n",
       "\n"
      ],
      "text/plain": [
       " [1] \"SeniorCitizen1\"                 \"tenure\"                        \n",
       " [3] \"PhoneServiceYes\"                \"OnlineSecurityYes\"             \n",
       " [5] \"OnlineBackupYes\"                \"DeviceProtectionYes\"           \n",
       " [7] \"TechSupportYes\"                 \"PaperlessBillingYes\"           \n",
       " [9] \"MonthlyCharges\"                 \"Contract.One.year\"             \n",
       "[11] \"Contract.Two.year\"              \"PaymentMethod.Electronic.check\""
      ]
     },
     "metadata": {},
     "output_type": "display_data"
    },
    {
     "data": {
      "image/png": "[encoded data removed]",
      "text/plain": [
       "plot without title"
      ]
     },
     "metadata": {
      "image/png": {
       "height": 420,
       "width": 420
      }
     },
     "output_type": "display_data"
    }
   ],
   "source": [
    "regfit.full=regsubsets(Churn~.,data=df,nvmax=21)\n",
    "reg.summary=summary(regfit.full)\n",
    "names(reg.summary)\n",
    "which.min(reg.summary$bic)\n",
    "plot(reg.summary$bic,xlab=\"No. of Variables\",ylab=expression(paste(\"BIC\")),type=\"l\")\n",
    "points(12,reg.summary$bic[12],col=\"red\",cex=2,pch=20)\n",
    "names(coef(regfit.full,12))[-1]"
   ]
  },
  {
   "cell_type": "markdown",
   "id": "5f8bd7d4",
   "metadata": {},
   "source": [
    "# Final Dataset for Analysis"
   ]
  },
  {
   "cell_type": "code",
   "execution_count": 10,
   "id": "4d0e4c47",
   "metadata": {},
   "outputs": [
    {
     "data": {
      "text/html": [
       "<style>\n",
       ".list-inline {list-style: none; margin:0; padding: 0}\n",
       ".list-inline>li {display: inline-block}\n",
       ".list-inline>li:not(:last-child)::after {content: \"\\00b7\"; padding: 0 .5ex}\n",
       "</style>\n",
       "<ol class=list-inline><li>7043</li><li>13</li></ol>\n"
      ],
      "text/latex": [
       "\\begin{enumerate*}\n",
       "\\item 7043\n",
       "\\item 13\n",
       "\\end{enumerate*}\n"
      ],
      "text/markdown": [
       "1. 7043\n",
       "2. 13\n",
       "\n",
       "\n"
      ],
      "text/plain": [
       "[1] 7043   13"
      ]
     },
     "metadata": {},
     "output_type": "display_data"
    }
   ],
   "source": [
    "data=df[,-c(1,3,4,7,8,13,14,20,22)]\n",
    "dim(data)"
   ]
  },
  {
   "cell_type": "markdown",
   "id": "deeaa9cb",
   "metadata": {},
   "source": [
    "# Train-Cross Validation-Test Split"
   ]
  },
  {
   "cell_type": "code",
   "execution_count": 11,
   "id": "9d92df42",
   "metadata": {},
   "outputs": [],
   "source": [
    "index1=sample(1:nrow(data),floor(0.7*nrow(data)))\n",
    "train=data[index1,]\n",
    "remaining=data[-index1,]\n",
    "index2=sample(1:nrow(remaining),floor(2/3*nrow(remaining)))\n",
    "crossval=remaining[index2,]\n",
    "test=remaining[-index2,]\n",
    "actual_churn=crossval$Churn"
   ]
  },
  {
   "cell_type": "markdown",
   "id": "002e2930",
   "metadata": {},
   "source": [
    "# Logistic Regression"
   ]
  },
  {
   "cell_type": "code",
   "execution_count": 12,
   "id": "486883fb",
   "metadata": {},
   "outputs": [
    {
     "data": {
      "text/plain": [
       "                actual_churn\n",
       "logistic.predict  No Yes\n",
       "             No  938 169\n",
       "             Yes 100 201"
      ]
     },
     "metadata": {},
     "output_type": "display_data"
    },
    {
     "data": {
      "text/html": [
       "0.808948863636364"
      ],
      "text/latex": [
       "0.808948863636364"
      ],
      "text/markdown": [
       "0.808948863636364"
      ],
      "text/plain": [
       "[1] 0.8089489"
      ]
     },
     "metadata": {},
     "output_type": "display_data"
    }
   ],
   "source": [
    "logistic.fit=glm(Churn~.,data=train,family=\"binomial\")\n",
    "logistic.predict=rep(\"No\",nrow(crossval))\n",
    "predicted_prob=predict(logistic.fit,newdata=crossval,type=\"response\")\n",
    "logistic.predict[predicted_prob>0.5]=\"Yes\"\n",
    "table(logistic.predict,actual_churn)\n",
    "mean(logistic.predict==actual_churn)"
   ]
  },
  {
   "cell_type": "markdown",
   "id": "c5528f8a",
   "metadata": {},
   "source": [
    "# Linear Discriminant Analysis"
   ]
  },
  {
   "cell_type": "code",
   "execution_count": 13,
   "id": "2f7d71ef",
   "metadata": {},
   "outputs": [
    {
     "data": {
      "text/plain": [
       "           actual_churn\n",
       "lda.predict  No Yes\n",
       "        No  930 169\n",
       "        Yes 108 201"
      ]
     },
     "metadata": {},
     "output_type": "display_data"
    },
    {
     "data": {
      "text/html": [
       "0.803267045454545"
      ],
      "text/latex": [
       "0.803267045454545"
      ],
      "text/markdown": [
       "0.803267045454545"
      ],
      "text/plain": [
       "[1] 0.803267"
      ]
     },
     "metadata": {},
     "output_type": "display_data"
    }
   ],
   "source": [
    "lda.fit=lda(Churn~.,data=train)\n",
    "lda.predict=predict(lda.fit,crossval)$class\n",
    "table(lda.predict,actual_churn)\n",
    "mean(lda.predict==actual_churn)"
   ]
  },
  {
   "cell_type": "markdown",
   "id": "daab39bd",
   "metadata": {},
   "source": [
    "# Decision Tree Classifier"
   ]
  },
  {
   "cell_type": "code",
   "execution_count": 14,
   "id": "284ac3ce",
   "metadata": {},
   "outputs": [
    {
     "data": {
      "text/plain": [
       "\n",
       "Classification tree:\n",
       "tree(formula = Churn ~ ., data = train, method = \"class\")\n",
       "Variables actually used in tree construction:\n",
       "[1] \"Contract.Two.year\"              \"Contract.One.year\"             \n",
       "[3] \"PaymentMethod.Electronic.check\" \"tenure\"                        \n",
       "[5] \"MonthlyCharges\"                \n",
       "Number of terminal nodes:  8 \n",
       "Residual mean deviance:  0.8856 = 4359 / 4922 \n",
       "Misclassification error rate: 0.2152 = 1061 / 4930 "
      ]
     },
     "metadata": {},
     "output_type": "display_data"
    },
    {
     "data": {
      "text/plain": [
       "               actual_churn\n",
       "predicted_churn  No Yes\n",
       "            No  920 226\n",
       "            Yes 118 144"
      ]
     },
     "metadata": {},
     "output_type": "display_data"
    },
    {
     "data": {
      "text/html": [
       "0.755681818181818"
      ],
      "text/latex": [
       "0.755681818181818"
      ],
      "text/markdown": [
       "0.755681818181818"
      ],
      "text/plain": [
       "[1] 0.7556818"
      ]
     },
     "metadata": {},
     "output_type": "display_data"
    },
    {
     "data": {
      "image/png": "[encoded data removed]",
      "text/plain": [
       "plot without title"
      ]
     },
     "metadata": {
      "image/png": {
       "height": 420,
       "width": 420
      }
     },
     "output_type": "display_data"
    }
   ],
   "source": [
    "tree.fit=tree(Churn~.,train,method=\"class\")\n",
    "summary(tree.fit)\n",
    "plot(tree.fit)\n",
    "text(tree.fit,pretty=0,cex=0.7)\n",
    "text(tree.fit,pretty=0,cex=0.7)\n",
    "tree.predict=predict(tree.fit,crossval,type=\"class\")\n",
    "table(predicted_churn=tree.predict,actual_churn)\n",
    "mean(tree.predict==actual_churn)"
   ]
  },
  {
   "cell_type": "markdown",
   "id": "1dfef455",
   "metadata": {},
   "source": [
    "# Random Forest Classifier"
   ]
  },
  {
   "cell_type": "code",
   "execution_count": 15,
   "id": "2bb5a79d",
   "metadata": {},
   "outputs": [
    {
     "data": {
      "text/plain": [
       "               actual_churn\n",
       "predicted_churn  No Yes\n",
       "            No  917 178\n",
       "            Yes 121 192"
      ]
     },
     "metadata": {},
     "output_type": "display_data"
    },
    {
     "data": {
      "text/html": [
       "0.787642045454545"
      ],
      "text/latex": [
       "0.787642045454545"
      ],
      "text/markdown": [
       "0.787642045454545"
      ],
      "text/plain": [
       "[1] 0.787642"
      ]
     },
     "metadata": {},
     "output_type": "display_data"
    }
   ],
   "source": [
    "rf.fit=randomForest(Churn~.,data=train,ntree=200,mtry=4)\n",
    "rf.predict=predict(rf.fit,crossval)\n",
    "table(predicted_churn=rf.predict,actual_churn)\n",
    "mean(rf.predict==actual_churn)"
   ]
  },
  {
   "cell_type": "markdown",
   "id": "d9efb673",
   "metadata": {},
   "source": [
    "# Misclassification Error Rate for Each Model"
   ]
  },
  {
   "cell_type": "code",
   "execution_count": 16,
   "id": "51830ab7",
   "metadata": {},
   "outputs": [
    {
     "data": {
      "text/html": [
       "'Misclassification Error Rate for Logistic Regression is 19.1051136363636 %'"
      ],
      "text/latex": [
       "'Misclassification Error Rate for Logistic Regression is 19.1051136363636 \\%'"
      ],
      "text/markdown": [
       "'Misclassification Error Rate for Logistic Regression is 19.1051136363636 %'"
      ],
      "text/plain": [
       "[1] \"Misclassification Error Rate for Logistic Regression is 19.1051136363636 %\""
      ]
     },
     "metadata": {},
     "output_type": "display_data"
    },
    {
     "data": {
      "text/html": [
       "'Misclassification Error Rate for Linear Discriminant Analysis is is 19.6732954545455 %'"
      ],
      "text/latex": [
       "'Misclassification Error Rate for Linear Discriminant Analysis is is 19.6732954545455 \\%'"
      ],
      "text/markdown": [
       "'Misclassification Error Rate for Linear Discriminant Analysis is is 19.6732954545455 %'"
      ],
      "text/plain": [
       "[1] \"Misclassification Error Rate for Linear Discriminant Analysis is is 19.6732954545455 %\""
      ]
     },
     "metadata": {},
     "output_type": "display_data"
    },
    {
     "data": {
      "text/html": [
       "'Misclassification Error Rate for Decision Tree is 24.4318181818182 %'"
      ],
      "text/latex": [
       "'Misclassification Error Rate for Decision Tree is 24.4318181818182 \\%'"
      ],
      "text/markdown": [
       "'Misclassification Error Rate for Decision Tree is 24.4318181818182 %'"
      ],
      "text/plain": [
       "[1] \"Misclassification Error Rate for Decision Tree is 24.4318181818182 %\""
      ]
     },
     "metadata": {},
     "output_type": "display_data"
    },
    {
     "data": {
      "text/html": [
       "'Misclassification Error Rate for Random Forest is 21.2357954545455 %'"
      ],
      "text/latex": [
       "'Misclassification Error Rate for Random Forest is 21.2357954545455 \\%'"
      ],
      "text/markdown": [
       "'Misclassification Error Rate for Random Forest is 21.2357954545455 %'"
      ],
      "text/plain": [
       "[1] \"Misclassification Error Rate for Random Forest is 21.2357954545455 %\""
      ]
     },
     "metadata": {},
     "output_type": "display_data"
    }
   ],
   "source": [
    "misclassification_rate_logistic=(mean(logistic.predict!=actual_churn))*100\n",
    "misclassification_rate_lda=(mean(lda.predict!=actual_churn))*100\n",
    "misclassification_rate_tree=(mean(tree.predict!=actual_churn))*100\n",
    "misclassification_rate_forest=(mean(rf.predict!=actual_churn))*100\n",
    "paste(\"Misclassification Error Rate for Logistic Regression is\",misclassification_rate_logistic,\"%\")\n",
    "paste(\"Misclassification Error Rate for Linear Discriminant Analysis is is\",misclassification_rate_lda,\"%\")\n",
    "paste(\"Misclassification Error Rate for Decision Tree is\",misclassification_rate_tree,\"%\")\n",
    "paste(\"Misclassification Error Rate for Random Forest is\",misclassification_rate_forest,\"%\")"
   ]
  },
  {
   "cell_type": "markdown",
   "id": "429eb1e1",
   "metadata": {},
   "source": [
    "# Suggested Model"
   ]
  },
  {
   "cell_type": "markdown",
   "id": "70d4f92e",
   "metadata": {},
   "source": [
    " Logistic Regression"
   ]
  },
  {
   "cell_type": "markdown",
   "id": "9c9a8e5d",
   "metadata": {},
   "source": [
    "# Fitting on Test Dataset"
   ]
  },
  {
   "cell_type": "code",
   "execution_count": 17,
   "id": "c71624d2",
   "metadata": {},
   "outputs": [
    {
     "data": {
      "text/plain": [
       "                     actual.churn.test\n",
       "logistic.predict.test  No Yes\n",
       "                  No  474  72\n",
       "                  Yes  56 103"
      ]
     },
     "metadata": {},
     "output_type": "display_data"
    },
    {
     "data": {
      "text/html": [
       "'Misclassification Error Rate for final model is 18.1560283687943 %'"
      ],
      "text/latex": [
       "'Misclassification Error Rate for final model is 18.1560283687943 \\%'"
      ],
      "text/markdown": [
       "'Misclassification Error Rate for final model is 18.1560283687943 %'"
      ],
      "text/plain": [
       "[1] \"Misclassification Error Rate for final model is 18.1560283687943 %\""
      ]
     },
     "metadata": {},
     "output_type": "display_data"
    }
   ],
   "source": [
    "predicted_prob=predict(logistic.fit,newdata=test,type=\"response\")\n",
    "logistic.predict.test=rep(\"No\",nrow(test))\n",
    "logistic.predict.test[predicted_prob>0.5]=\"Yes\"\n",
    "actual.churn.test=test$Churn\n",
    "table(logistic.predict.test,actual.churn.test)\n",
    "misclassification.final=mean(logistic.predict.test!=actual.churn.test)*100\n",
    "paste(\"Misclassification Error Rate for final model is\",misclassification.final,\"%\")"
   ]
  },
  {
   "cell_type": "code",
   "execution_count": 18,
   "id": "66c0a93d",
   "metadata": {},
   "outputs": [
    {
     "name": "stderr",
     "output_type": "stream",
     "text": [
      "Setting levels: control = No, case = Yes\n",
      "\n",
      "Setting direction: controls < cases\n",
      "\n"
     ]
    },
    {
     "data": {
      "text/html": [
       "0.842684636118598"
      ],
      "text/latex": [
       "0.842684636118598"
      ],
      "text/markdown": [
       "0.842684636118598"
      ],
      "text/plain": [
       "Area under the curve: 0.8427"
      ]
     },
     "metadata": {},
     "output_type": "display_data"
    },
    {
     "data": {
      "image/png": "[encoded data removed]",
      "text/plain": [
       "plot without title"
      ]
     },
     "metadata": {
      "image/png": {
       "height": 420,
       "width": 420
      }
     },
     "output_type": "display_data"
    }
   ],
   "source": [
    "#Assessing final model accuracy via ROC curve\n",
    "ROC=roc(actual.churn.test,predicted_prob)\n",
    "plot(ROC,col=\"blue\")\n",
    "auc(ROC)"
   ]
  },
  {
   "cell_type": "code",
   "execution_count": null,
   "id": "7d0752ea",
   "metadata": {},
   "outputs": [],
   "source": []
  }
 ],
 "metadata": {
  "kernelspec": {
   "display_name": "R",
   "language": "R",
   "name": "ir"
  },
  "language_info": {
   "codemirror_mode": "r",
   "file_extension": ".r",
   "mimetype": "text/x-r-source",
   "name": "R",
   "pygments_lexer": "r",
   "version": "4.1.0"
  }
 },
 "nbformat": 4,
 "nbformat_minor": 5
}
